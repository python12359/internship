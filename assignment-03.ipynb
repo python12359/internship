{
 "cells": [
  {
   "cell_type": "code",
   "execution_count": null,
   "id": "20a2abc7",
   "metadata": {},
   "outputs": [],
   "source": [
    "question-1\n"
   ]
  },
  {
   "cell_type": "code",
   "execution_count": 7,
   "id": "1a305b4f",
   "metadata": {},
   "outputs": [
    {
     "name": "stdout",
     "output_type": "stream",
     "text": [
      "Python : Exercises : PHP :Exercises : \n"
     ]
    }
   ],
   "source": [
    "import re\n",
    "text='Python . Exercises , PHP .Exercises . '\n",
    "print(re.sub(\"[,.]\",\":\",text))"
   ]
  },
  {
   "cell_type": "code",
   "execution_count": null,
   "id": "1d839793",
   "metadata": {},
   "outputs": [],
   "source": [
    "question-2"
   ]
  },
  {
   "cell_type": "code",
   "execution_count": 1,
   "id": "fded6bb8",
   "metadata": {},
   "outputs": [
    {
     "ename": "SyntaxError",
     "evalue": "unterminated string literal (detected at line 2) (1430563736.py, line 2)",
     "output_type": "error",
     "traceback": [
      "\u001b[1;36m  Cell \u001b[1;32mIn[1], line 2\u001b[1;36m\u001b[0m\n\u001b[1;33m    dict={'SUMMARY'; ['hello', 'world!', 'XXXXX test', '123four', 'five',';',':'six...']}\u001b[0m\n\u001b[1;37m                                                                                      ^\u001b[0m\n\u001b[1;31mSyntaxError\u001b[0m\u001b[1;31m:\u001b[0m unterminated string literal (detected at line 2)\n"
     ]
    }
   ],
   "source": [
    "import pandas as pd\n",
    "dict={'SUMMARY': ['hello', 'world!', 'XXXXX test', '123four', 'five',';',':'six...']}\n",
    "                 df=pd.DataFrame(dict)\n",
    "df                 "
   ]
  },
  {
   "cell_type": "code",
   "execution_count": null,
   "id": "97486591",
   "metadata": {},
   "outputs": [],
   "source": [
    "question-3"
   ]
  },
  {
   "cell_type": "code",
   "execution_count": 1,
   "id": "eda4d1d6",
   "metadata": {},
   "outputs": [
    {
     "name": "stdout",
     "output_type": "stream",
     "text": [
      "['quick', 'brown', 'rabbit', 'jumps', 'over', 'lazy', 'tortoise']\n"
     ]
    }
   ],
   "source": [
    "import re\n",
    "text = 'The quick brown rabbit jumps over the lazy tortoise.'\n",
    "print(re.findall(r\"\\b\\w{4,}\\b\", text))\n",
    "\n",
    "\n",
    "\n",
    "\n",
    "\n",
    "\n"
   ]
  },
  {
   "cell_type": "code",
   "execution_count": 2,
   "id": "7a2eeaf0",
   "metadata": {},
   "outputs": [
    {
     "name": "stdout",
     "output_type": "stream",
     "text": [
      "['mother', 'loves', 'more', 'than', 'brother']\n"
     ]
    }
   ],
   "source": [
    "text='my mother loves me more than my brother'\n",
    "print(re.findall(r\"\\b\\w{4,}\\b\",text))"
   ]
  },
  {
   "cell_type": "code",
   "execution_count": 3,
   "id": "63cb9411",
   "metadata": {},
   "outputs": [
    {
     "name": "stdout",
     "output_type": "stream",
     "text": [
      "<class 're.Pattern'>\n"
     ]
    }
   ],
   "source": [
    "str1 = \"ankita's luck numbers are 2515 7616 2312 4511\"\n",
    "string_pattern = r\"\\d{4,}\"\n",
    "regex_pattern = re.compile(string_pattern)\n",
    "print(type(regex_pattern))\n"
   ]
  },
  {
   "cell_type": "code",
   "execution_count": 7,
   "id": "8bb8a823",
   "metadata": {},
   "outputs": [],
   "source": [
    "result = regex_pattern.findall(str1)"
   ]
  },
  {
   "cell_type": "code",
   "execution_count": null,
   "id": "02ffdd50",
   "metadata": {},
   "outputs": [],
   "source": [
    "question-4"
   ]
  },
  {
   "cell_type": "code",
   "execution_count": 1,
   "id": "9d011710",
   "metadata": {},
   "outputs": [],
   "source": [
    "import re\n",
    "\n",
    "def find_words(string):\n",
    "  pattern = re.compile(r'\\b\\w{3,5}\\b')\n",
    "  matches = pattern.findall(string)\n",
    "  return matches"
   ]
  },
  {
   "cell_type": "code",
   "execution_count": 2,
   "id": "3e9b86d7",
   "metadata": {},
   "outputs": [
    {
     "name": "stdout",
     "output_type": "stream",
     "text": [
      "['This', 'with', 'words']\n"
     ]
    }
   ],
   "source": [
    "string = \"This is a sample string with words of different lengths.\"\n",
    "result = find_words(string)\n",
    "print(result)"
   ]
  },
  {
   "cell_type": "code",
   "execution_count": null,
   "id": "f1a0a1a6",
   "metadata": {},
   "outputs": [],
   "source": [
    "question-5\n"
   ]
  },
  {
   "cell_type": "code",
   "execution_count": 2,
   "id": "1231f674",
   "metadata": {},
   "outputs": [
    {
     "ename": "IndentationError",
     "evalue": "expected an indented block after 'for' statement on line 7 (1172839953.py, line 8)",
     "output_type": "error",
     "traceback": [
      "\u001b[1;36m  Cell \u001b[1;32mIn[2], line 8\u001b[1;36m\u001b[0m\n\u001b[1;33m    modified_string = re.sub(pattern, '', string)\u001b[0m\n\u001b[1;37m    ^\u001b[0m\n\u001b[1;31mIndentationError\u001b[0m\u001b[1;31m:\u001b[0m expected an indented block after 'for' statement on line 7\n"
     ]
    }
   ],
   "source": [
    "import re\n",
    "\n",
    "def remove_parentheses(strings):\n",
    "  pattern = re.compile(r'\\([^)]*\\)')  \n",
    "  \n",
    "  modified_strings = []\n",
    "  for string in strings:\n",
    "  modified_string = re.sub(pattern, '', string)  \n",
    "  modified_strings.append(modified_string)\n",
    "  \n",
    "  return modified_strings"
   ]
  },
  {
   "cell_type": "code",
   "execution_count": 4,
   "id": "9974abc6",
   "metadata": {},
   "outputs": [
    {
     "ename": "NameError",
     "evalue": "name 'remove_parentheses' is not defined",
     "output_type": "error",
     "traceback": [
      "\u001b[1;31m---------------------------------------------------------------------------\u001b[0m",
      "\u001b[1;31mNameError\u001b[0m                                 Traceback (most recent call last)",
      "Cell \u001b[1;32mIn[4], line 2\u001b[0m\n\u001b[0;32m      1\u001b[0m sample_text \u001b[38;5;241m=\u001b[39m [\u001b[38;5;124m\"\u001b[39m\u001b[38;5;124mexample (.com)\u001b[39m\u001b[38;5;124m\"\u001b[39m, \u001b[38;5;124m\"\u001b[39m\u001b[38;5;124mhr@fliprobo (.com)\u001b[39m\u001b[38;5;124m\"\u001b[39m, \u001b[38;5;124m\"\u001b[39m\u001b[38;5;124mgithub (.com)\u001b[39m\u001b[38;5;124m\"\u001b[39m, \u001b[38;5;124m\"\u001b[39m\u001b[38;5;124mHello (Data Science World)\u001b[39m\u001b[38;5;124m\"\u001b[39m, \u001b[38;5;124m\"\u001b[39m\u001b[38;5;124mData (Scientist)\u001b[39m\u001b[38;5;124m\"\u001b[39m]\n\u001b[1;32m----> 2\u001b[0m result \u001b[38;5;241m=\u001b[39m remove_parentheses(sample_text)\n\u001b[0;32m      3\u001b[0m \u001b[38;5;28mprint\u001b[39m(result)\n",
      "\u001b[1;31mNameError\u001b[0m: name 'remove_parentheses' is not defined"
     ]
    }
   ],
   "source": [
    "sample_text = [\"example (.com)\", \"hr@fliprobo (.com)\", \"github (.com)\", \"Hello (Data Science World)\", \"Data (Scientist)\"]\n",
    "result = remove_parentheses(sample_text)\n",
    "print(result)"
   ]
  },
  {
   "cell_type": "code",
   "execution_count": null,
   "id": "ea8f2a88",
   "metadata": {},
   "outputs": [],
   "source": [
    "question-6\n"
   ]
  },
  {
   "cell_type": "code",
   "execution_count": 10,
   "id": "e14d063b",
   "metadata": {},
   "outputs": [
    {
     "ename": "SyntaxError",
     "evalue": "invalid syntax (2831763846.py, line 2)",
     "output_type": "error",
     "traceback": [
      "\u001b[1;36m  Cell \u001b[1;32mIn[10], line 2\u001b[1;36m\u001b[0m\n\u001b[1;33m    open('filename.[\"example (.com)\", \"hr@fliprobo (.com)\", \"github (.com)\", \"Hello (Data Science World)\", \"Data (Scientist)\"]', 'r') as file:\u001b[0m\n\u001b[1;37m                                                                                                                                      ^\u001b[0m\n\u001b[1;31mSyntaxError\u001b[0m\u001b[1;31m:\u001b[0m invalid syntax\n"
     ]
    }
   ],
   "source": [
    "import re\n",
    "open('filename.[\"example (.com)\", \"hr@fliprobo (.com)\", \"github (.com)\", \"Hello (Data Science World)\", \"Data (Scientist)\"]', 'r') as file:\n",
    "    text = file.read([\"example (.com)\", \"hr@fliprobo (.com)\", \"github (.com)\", \"Hello (Data Science World)\", \"Data (Scientist)\"])\n",
    "    \n",
    "    modified_text = re.sub(r'\\([^()]*\\)', '', [\"example (.com)\", \"hr@fliprobo (.com)\", \"github (.com)\", \"Hello (Data Science World)\", \"Data (Scientist)\"])\n",
    "    file.write(modified_text)\n"
   ]
  },
  {
   "cell_type": "code",
   "execution_count": null,
   "id": "f5ab96f0",
   "metadata": {},
   "outputs": [],
   "source": [
    "question-7"
   ]
  },
  {
   "cell_type": "code",
   "execution_count": 12,
   "id": "8c3bd2c4",
   "metadata": {},
   "outputs": [
    {
     "name": "stdout",
     "output_type": "stream",
     "text": [
      "['Importance', 'Of', 'Regular', 'Expressions', 'In', 'Python']\n"
     ]
    }
   ],
   "source": [
    "import re\n",
    "text='ImportanceOfRegularExpressionsInPython'\n",
    "print(re.findall('[A-Z][^A-Z]*', text))\n",
    "\n"
   ]
  },
  {
   "cell_type": "code",
   "execution_count": null,
   "id": "16ffba80",
   "metadata": {},
   "outputs": [],
   "source": [
    "question-8"
   ]
  },
  {
   "cell_type": "code",
   "execution_count": 14,
   "id": "dc94437a",
   "metadata": {},
   "outputs": [
    {
     "ename": "IndentationError",
     "evalue": "unindent does not match any outer indentation level (<tokenize>, line 5)",
     "output_type": "error",
     "traceback": [
      "\u001b[1;36m  File \u001b[1;32m<tokenize>:5\u001b[1;36m\u001b[0m\n\u001b[1;33m    result = re.sub(pattern, r'\\1 \\2',text)\u001b[0m\n\u001b[1;37m    ^\u001b[0m\n\u001b[1;31mIndentationError\u001b[0m\u001b[1;31m:\u001b[0m unindent does not match any outer indentation level\n"
     ]
    }
   ],
   "source": [
    "import re\n",
    "\n",
    "def insert_spaces(text):\n",
    "    pattern = r'(\\d+)([A-Za-z]+)'\n",
    "  result = re.sub(pattern, r'\\1 \\2',text)\n",
    "  return result\n",
    "text = \"RegularExpression1IsAn2ImportantTopic3InPython\"\n",
    "output = insert_spaces(text)\n",
    "print(output)\n",
    "\n",
    "                  "
   ]
  },
  {
   "cell_type": "code",
   "execution_count": null,
   "id": "957a8ff9",
   "metadata": {},
   "outputs": [],
   "source": [
    "question-9"
   ]
  },
  {
   "cell_type": "code",
   "execution_count": 10,
   "id": "f8e6a9bb",
   "metadata": {},
   "outputs": [
    {
     "name": "stdout",
     "output_type": "stream",
     "text": [
      "Regular Expression Is An Important Topic In Python\n"
     ]
    }
   ],
   "source": [
    "import re\n",
    "string=('RegularExpression1IsAn2ImportantTopic3InPython')\n",
    "words = re.findall('[A-Z][a-z]*', string)\n",
    "\n",
    "print(' '.join((words)))"
   ]
  },
  {
   "cell_type": "code",
   "execution_count": null,
   "id": "395950e3",
   "metadata": {},
   "outputs": [],
   "source": [
    "question-11"
   ]
  },
  {
   "cell_type": "code",
   "execution_count": 16,
   "id": "3b39e7cd",
   "metadata": {},
   "outputs": [
    {
     "name": "stdout",
     "output_type": "stream",
     "text": [
      "Not matched!\n",
      "Found a match!\n"
     ]
    }
   ],
   "source": [
    "import re\n",
    "def text_match(text):\n",
    "        patterns = '^[a-zA-Z0-9_]*$'\n",
    "        if re.search(patterns,  text):\n",
    "                return 'Found a match!'\n",
    "        else:\n",
    "                return('Not matched!')\n",
    "\n",
    "print(text_match(\"The quick brown fox jumps over the lazy dog.\"))\n",
    "print(text_match(\"Python_Exercises_1\"))\n",
    "\n"
   ]
  },
  {
   "cell_type": "code",
   "execution_count": null,
   "id": "22411788",
   "metadata": {},
   "outputs": [],
   "source": [
    "question-12"
   ]
  },
  {
   "cell_type": "code",
   "execution_count": 17,
   "id": "40936d9e",
   "metadata": {},
   "outputs": [
    {
     "name": "stdout",
     "output_type": "stream",
     "text": [
      "True\n",
      "False\n"
     ]
    }
   ],
   "source": [
    "import re\n",
    "def match_num(string):\n",
    "    text = re.compile(r\"^5\")\n",
    "    if text.match(string):\n",
    "        return True\n",
    "    else:\n",
    "        return False\n",
    "print(match_num('5-2345861'))\n",
    "print(match_num('6-2345861'))\n"
   ]
  },
  {
   "cell_type": "code",
   "execution_count": null,
   "id": "06793aea",
   "metadata": {},
   "outputs": [],
   "source": [
    "question-13"
   ]
  },
  {
   "cell_type": "code",
   "execution_count": 18,
   "id": "03267158",
   "metadata": {},
   "outputs": [
    {
     "name": "stdout",
     "output_type": "stream",
     "text": [
      "216.8.94.196\n"
     ]
    }
   ],
   "source": [
    "import re\n",
    "ip = \"216.08.094.196\"\n",
    "string = re.sub('\\.[0]*', '.', ip)\n",
    "print(string)\n"
   ]
  },
  {
   "cell_type": "code",
   "execution_count": null,
   "id": "6ee8747c",
   "metadata": {},
   "outputs": [],
   "source": [
    "question-14"
   ]
  },
  {
   "cell_type": "code",
   "execution_count": 21,
   "id": "3e342ade",
   "metadata": {},
   "outputs": [
    {
     "name": "stdout",
     "output_type": "stream",
     "text": [
      "August 15th 1947\n"
     ]
    }
   ],
   "source": [
    "import re\n",
    "\n",
    "text = \"On August 15th 1947 that India was declared independent from British colonialism, and the reins of control were handed over to the leaders of the Country.\"\n",
    "\n",
    "pattern = r\"\\b([A-Z][a-z]+ \\d{1,2}(?:st|nd|rd|th)? \\d{4})\\b\"\n",
    "\n",
    "matches = re.findall(pattern, text)\n",
    "\n",
    "date_string=matches[0] if matches else None\n",
    "print(date_string)\n",
    "\n"
   ]
  },
  {
   "cell_type": "code",
   "execution_count": null,
   "id": "ba69f892",
   "metadata": {},
   "outputs": [],
   "source": [
    "question-15"
   ]
  },
  {
   "cell_type": "code",
   "execution_count": 24,
   "id": "0a00220f",
   "metadata": {},
   "outputs": [
    {
     "name": "stdout",
     "output_type": "stream",
     "text": [
      "Searching for \"fox\" in \"The quick brown fox jumps over the lazy dog.\" ->\n",
      "Matched!\n",
      "Searching for \"dog\" in \"The quick brown fox jumps over the lazy dog.\" ->\n",
      "Matched!\n",
      "Searching for \"horse\" in \"The quick brown fox jumps over the lazy dog.\" ->\n",
      "Not Matched!\n"
     ]
    }
   ],
   "source": [
    "import re\n",
    "patterns = [ 'fox', 'dog', 'horse' ]\n",
    "text = 'The quick brown fox jumps over the lazy dog.'\n",
    "for pattern in patterns:\n",
    "    print('Searching for \"%s\" in \"%s\" ->' % (pattern, text),)\n",
    "    if re.search(pattern,  text):\n",
    "        print('Matched!')\n",
    "    else:\n",
    "        print('Not Matched!')\n"
   ]
  },
  {
   "cell_type": "code",
   "execution_count": null,
   "id": "d073f192",
   "metadata": {},
   "outputs": [],
   "source": [
    "question-16"
   ]
  },
  {
   "cell_type": "code",
   "execution_count": 25,
   "id": "5c385030",
   "metadata": {},
   "outputs": [
    {
     "name": "stdout",
     "output_type": "stream",
     "text": [
      "Found \"fox\" in \"The quick brown fox jumps over the lazy dog.\" from 16 to 19 \n"
     ]
    }
   ],
   "source": [
    "import re\n",
    "pattern = 'fox'\n",
    "text = 'The quick brown fox jumps over the lazy dog.'\n",
    "match = re.search(pattern, text)\n",
    "s = match.start()\n",
    "e = match.end()\n",
    "print('Found \"%s\" in \"%s\" from %d to %d ' % \\\n",
    "    (match.re.pattern, match.string, s, e))"
   ]
  },
  {
   "cell_type": "code",
   "execution_count": null,
   "id": "1e2527ca",
   "metadata": {},
   "outputs": [],
   "source": [
    "question-17"
   ]
  },
  {
   "cell_type": "code",
   "execution_count": 26,
   "id": "2cb654d2",
   "metadata": {},
   "outputs": [
    {
     "name": "stdout",
     "output_type": "stream",
     "text": [
      "Found \"exercises\"\n",
      "Found \"exercises\"\n",
      "Found \"exercises\"\n"
     ]
    }
   ],
   "source": [
    "import re\n",
    "text = 'Python exercises, PHP exercises, C# exercises'\n",
    "pattern = 'exercises'\n",
    "for match in re.findall(pattern, text):\n",
    "    print('Found \"%s\"' % match)"
   ]
  },
  {
   "cell_type": "code",
   "execution_count": null,
   "id": "cae6d6d0",
   "metadata": {},
   "outputs": [],
   "source": [
    "question-18"
   ]
  },
  {
   "cell_type": "code",
   "execution_count": 27,
   "id": "264d9182",
   "metadata": {},
   "outputs": [
    {
     "name": "stdout",
     "output_type": "stream",
     "text": [
      "Found \"exercises\" at 7:16\n",
      "Found \"exercises\" at 22:31\n",
      "Found \"exercises\" at 36:45\n"
     ]
    }
   ],
   "source": [
    "import re\n",
    "text = 'Python exercises, PHP exercises, C# exercises'\n",
    "pattern = 'exercises'\n",
    "for match in re.finditer(pattern, text):\n",
    "    s = match.start()\n",
    "    e = match.end()\n",
    "    print('Found \"%s\" at %d:%d' % (text[s:e], s, e))\n"
   ]
  },
  {
   "cell_type": "code",
   "execution_count": null,
   "id": "3fd87739",
   "metadata": {},
   "outputs": [],
   "source": [
    "question-19"
   ]
  },
  {
   "cell_type": "code",
   "execution_count": 30,
   "id": "2b6007e5",
   "metadata": {},
   "outputs": [
    {
     "name": "stdout",
     "output_type": "stream",
     "text": [
      "Original date in YYY-MM-DD Format:  2023-11-02\n",
      "New date in DD-MM-YYYY Format:  02-11-2023\n"
     ]
    }
   ],
   "source": [
    "import re\n",
    "def change_date_format(dt):\n",
    "        return re.sub(r'(\\d{4})-(\\d{1,2})-(\\d{1,2})', '\\\\3-\\\\2-\\\\1', dt)\n",
    "dt1 = \"2023-11-02\"\n",
    "print(\"Original date in YYY-MM-DD Format: \",dt1)\n",
    "print(\"New date in DD-MM-YYYY Format: \",change_date_format(dt1))\n"
   ]
  },
  {
   "cell_type": "code",
   "execution_count": null,
   "id": "bb112967",
   "metadata": {},
   "outputs": [],
   "source": [
    "question-20"
   ]
  },
  {
   "cell_type": "code",
   "execution_count": 33,
   "id": "bb272a10",
   "metadata": {},
   "outputs": [
    {
     "name": "stdout",
     "output_type": "stream",
     "text": [
      "['01.12', '0132.12', '2.31', '145.8', '3.01', '27.25', '0.25']\n"
     ]
    }
   ],
   "source": [
    "def find_decimal_numbers(string):\n",
    "  pattern = re.compile(r'\\d+\\.\\d{1,2}')\n",
    "  decimal_numbers = re.findall(pattern, string)\n",
    "  return decimal_numbers\n",
    "sample_text = \"01.12 0132.123 2.31875 145.8 3.01 27.25 0.25\"\n",
    "output = find_decimal_numbers(sample_text)\n",
    "print(output)"
   ]
  },
  {
   "cell_type": "code",
   "execution_count": null,
   "id": "30741039",
   "metadata": {},
   "outputs": [],
   "source": [
    "question-21"
   ]
  },
  {
   "cell_type": "code",
   "execution_count": 34,
   "id": "9d7ec5cb",
   "metadata": {},
   "outputs": [
    {
     "name": "stdout",
     "output_type": "stream",
     "text": [
      "50\n",
      "Index position: 62\n"
     ]
    }
   ],
   "source": [
    "import re\n",
    "\n",
    "text = \"The following example creates an ArrayList with a capacity of 50 elements. Four elements are then added to the ArrayList and the ArrayList is trimmed accordingly.\"\n",
    "\n",
    "for m in re.finditer(\"\\d+\", text):\n",
    "    print(m.group(0))\n",
    "    print(\"Index position:\", m.start())"
   ]
  },
  {
   "cell_type": "code",
   "execution_count": null,
   "id": "8e5b890d",
   "metadata": {},
   "outputs": [],
   "source": [
    "question-22"
   ]
  },
  {
   "cell_type": "code",
   "execution_count": 35,
   "id": "dae88e58",
   "metadata": {},
   "outputs": [
    {
     "name": "stdout",
     "output_type": "stream",
     "text": [
      "950\n"
     ]
    }
   ],
   "source": [
    "import re\n",
    "\n",
    "input_string = 'My marks in each semester are: 947, 896, 926, 524, 734, 950, 642'\n",
    "\n",
    "numeric_values = re.findall(r'\\d+', input_string)\n",
    "numeric_values = [int(value) for value in numeric_values]\n",
    "\n",
    "max_value = max(numeric_values)\n",
    "\n",
    "print(max_value)"
   ]
  },
  {
   "cell_type": "code",
   "execution_count": null,
   "id": "8133f41a",
   "metadata": {},
   "outputs": [],
   "source": [
    "question-23"
   ]
  },
  {
   "cell_type": "code",
   "execution_count": 37,
   "id": "04152cc8",
   "metadata": {},
   "outputs": [
    {
     "name": "stdout",
     "output_type": "stream",
     "text": [
      "Regular Expression Is An Important Topic In Python\n"
     ]
    }
   ],
   "source": [
    "import re\n",
    "\n",
    "def insert_spaces(text):\n",
    "  \n",
    "  pattern = r'([A-Z][a-z]+)'\n",
    "  \n",
    "  result = re.sub(pattern, r' \\1', text)\n",
    "  \n",
    "  result = result.strip()\n",
    "  return result\n",
    "sample_text = \"RegularExpressionIsAnImportantTopicInPython\"\n",
    "output = insert_spaces(sample_text)\n",
    "print(output)"
   ]
  },
  {
   "cell_type": "code",
   "execution_count": null,
   "id": "4fef46ee",
   "metadata": {},
   "outputs": [],
   "source": [
    "question-24"
   ]
  },
  {
   "cell_type": "code",
   "execution_count": 38,
   "id": "6f9f9ef2",
   "metadata": {},
   "outputs": [
    {
     "name": "stdout",
     "output_type": "stream",
     "text": [
      "['This', 'Sample', 'Text', 'Multiple', 'Matches']\n"
     ]
    }
   ],
   "source": [
    "import re\n",
    "\n",
    "pattern = r'[A-Z][a-z]+'\n",
    "text = \"This is a Sample Text with Multiple Matches\"\n",
    "\n",
    "matches = re.findall(pattern, text)\n",
    "print(matches)"
   ]
  },
  {
   "cell_type": "code",
   "execution_count": null,
   "id": "cb324841",
   "metadata": {},
   "outputs": [],
   "source": [
    "question-25"
   ]
  },
  {
   "cell_type": "code",
   "execution_count": 39,
   "id": "4c7ac5ee",
   "metadata": {},
   "outputs": [
    {
     "name": "stdout",
     "output_type": "stream",
     "text": [
      "Hello hello world\n"
     ]
    }
   ],
   "source": [
    "import re\n",
    "\n",
    "def remove_duplicates(sentence):\n",
    "  pattern = r'\\b(\\w+)(\\s+\\1\\b)+'\n",
    "  result = re.sub(pattern, r'\\1', sentence)\n",
    "  return result\n",
    "sentence = \"Hello hello world world\"\n",
    "output = remove_duplicates(sentence)\n",
    "print(output)"
   ]
  },
  {
   "cell_type": "code",
   "execution_count": null,
   "id": "bc31acdd",
   "metadata": {},
   "outputs": [],
   "source": [
    "question-26"
   ]
  },
  {
   "cell_type": "code",
   "execution_count": 43,
   "id": "e1256c38",
   "metadata": {},
   "outputs": [
    {
     "name": "stdout",
     "output_type": "stream",
     "text": [
      "The string is :\n",
      "Python@\n",
      "The string doesnot end with alphanumeric character\n",
      "\n",
      "The string is :\n",
      "Python1245\n",
      "The string ends with alphanumeric character\n"
     ]
    }
   ],
   "source": [
    "import re\n",
    "\n",
    "regex_expression = '[a-zA-z0-9]$'\n",
    "\n",
    "def check_string(my_string):\n",
    "\n",
    "   if(re.search(regex_expression, my_string)):\n",
    "      print(\"The string ends with alphanumeric character\")\n",
    "\n",
    "   else:\n",
    "      print(\"The string doesnot end with alphanumeric character\")\n",
    "my_string_1 = \"Python@\"\n",
    "print(\"The string is :\")\n",
    "print(my_string_1)\n",
    "check_string(my_string_1)\n",
    "my_string_2 = \"Python1245\"\n",
    "print(\"\\nThe string is :\")\n",
    "print(my_string_2)\n",
    "check_string(my_string_2)"
   ]
  },
  {
   "cell_type": "code",
   "execution_count": null,
   "id": "7ec37062",
   "metadata": {},
   "outputs": [],
   "source": [
    "question-27"
   ]
  },
  {
   "cell_type": "code",
   "execution_count": 46,
   "id": "69e0c970",
   "metadata": {},
   "outputs": [
    {
     "name": "stdout",
     "output_type": "stream",
     "text": [
      "['#Doltiwal', '#xyzabc', '#Demonetization']\n"
     ]
    }
   ],
   "source": [
    "import re\n",
    "\n",
    "def extract_hashtags(text):\n",
    "  hashtags = re.findall(r'#\\w+', text)\n",
    "  return hashtags\n",
    "\n",
    "text = 'RT @kapil_kausik: #Doltiwal I mean #xyzabc is \"hurt\" by #Demonetization as the same has rendered USELESS <ed><U+00A0><U+00BD><ed><U+00B1><U+0089> \"acquired funds\" No wo'\n",
    "hashtags = extract_hashtags(text)\n",
    "print(hashtags)"
   ]
  },
  {
   "cell_type": "code",
   "execution_count": null,
   "id": "44699396",
   "metadata": {},
   "outputs": [],
   "source": [
    "question-28"
   ]
  },
  {
   "cell_type": "code",
   "execution_count": 47,
   "id": "649c1cd6",
   "metadata": {},
   "outputs": [
    {
     "name": "stdout",
     "output_type": "stream",
     "text": [
      "@Jags123456 Bharat band on 28??<ed><ed>Those who are protesting #demonetization are all different party leaders\n"
     ]
    }
   ],
   "source": [
    "import re\n",
    "\n",
    "input_text = \"@Jags123456 Bharat band on 28??<ed><U+00A0><U+00BD><ed><U+00B8><U+0082>Those who are protesting #demonetization are all different party leaders\"\n",
    "\n",
    "pattern = r\"<U\\+\\w{4}>\"\n",
    "output_text = re.sub(pattern, \"\", input_text)\n",
    "\n",
    "print(output_text)"
   ]
  },
  {
   "cell_type": "code",
   "execution_count": null,
   "id": "3843c97e",
   "metadata": {},
   "outputs": [],
   "source": []
  }
 ],
 "metadata": {
  "kernelspec": {
   "display_name": "Python 3 (ipykernel)",
   "language": "python",
   "name": "python3"
  },
  "language_info": {
   "codemirror_mode": {
    "name": "ipython",
    "version": 3
   },
   "file_extension": ".py",
   "mimetype": "text/x-python",
   "name": "python",
   "nbconvert_exporter": "python",
   "pygments_lexer": "ipython3",
   "version": "3.11.5"
  }
 },
 "nbformat": 4,
 "nbformat_minor": 5
}
