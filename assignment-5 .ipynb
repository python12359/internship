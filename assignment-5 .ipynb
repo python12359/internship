{
 "cells": [
  {
   "cell_type": "code",
   "execution_count": 12,
   "id": "3d709442",
   "metadata": {},
   "outputs": [],
   "source": [
    "import requests\n",
    "from bs4 import BeautifulSoup\n",
    "import pandas as pd\n"
   ]
  },
  {
   "cell_type": "code",
   "execution_count": 13,
   "id": "ae15c9f9",
   "metadata": {},
   "outputs": [],
   "source": [
    "url = \"https://en.wikipedia.org/wiki/Main_Page\"\n",
    "response = requests.get(url)"
   ]
  },
  {
   "cell_type": "code",
   "execution_count": 6,
   "id": "740363b7",
   "metadata": {},
   "outputs": [],
   "source": [
    "soup = BeautifulSoup(response.content, \"html.parser\")"
   ]
  },
  {
   "cell_type": "code",
   "execution_count": 7,
   "id": "f8281c1a",
   "metadata": {},
   "outputs": [],
   "source": [
    "header_tags = soup.find_all([\"h1\", \"h2\", \"h3\", \"h4\", \"h5\", \"h6\"])"
   ]
  },
  {
   "cell_type": "code",
   "execution_count": 8,
   "id": "9f34dd90",
   "metadata": {},
   "outputs": [],
   "source": [
    "header_texts = [tag.get_text() for tag in header_tags]"
   ]
  },
  {
   "cell_type": "code",
   "execution_count": 9,
   "id": "24e353af",
   "metadata": {},
   "outputs": [],
   "source": [
    "df = pd.DataFrame(header_texts, columns=[\"Header\"])"
   ]
  },
  {
   "cell_type": "code",
   "execution_count": 10,
   "id": "9b81ae1a",
   "metadata": {},
   "outputs": [
    {
     "name": "stdout",
     "output_type": "stream",
     "text": [
      "                          Header\n",
      "0                      Main Page\n",
      "1           Welcome to Wikipedia\n",
      "2  From today's featured article\n",
      "3               Did you know ...\n",
      "4                    In the news\n",
      "5                    On this day\n",
      "6       Today's featured picture\n",
      "7       Other areas of Wikipedia\n",
      "8    Wikipedia's sister projects\n",
      "9            Wikipedia languages\n"
     ]
    }
   ],
   "source": [
    "print(df)"
   ]
  },
  {
   "cell_type": "code",
   "execution_count": 6,
   "id": "3e58fed5",
   "metadata": {},
   "outputs": [],
   "source": [
    "import requests\n",
    "from bs4 import BeautifulSoup\n",
    "import pandas as pd"
   ]
  },
  {
   "cell_type": "code",
   "execution_count": 7,
   "id": "2f742b7a",
   "metadata": {},
   "outputs": [],
   "source": [
    "url = \"https://presidentofindia.nic.in/former-presidents.html\"\n",
    "response = requests.get(url)"
   ]
  },
  {
   "cell_type": "code",
   "execution_count": 8,
   "id": "2e2519f5",
   "metadata": {},
   "outputs": [],
   "source": [
    "soup=BeautifulSoup(response.content, \"html.parser\")"
   ]
  },
  {
   "cell_type": "code",
   "execution_count": 9,
   "id": "33ff9d19",
   "metadata": {},
   "outputs": [],
   "source": [
    "table = soup.find(\"table\")\n"
   ]
  },
  {
   "cell_type": "code",
   "execution_count": 10,
   "id": "d95d15f3",
   "metadata": {},
   "outputs": [],
   "source": [
    "names = []\n",
    "terms = []\n"
   ]
  },
  {
   "cell_type": "code",
   "execution_count": 16,
   "id": "2a374469",
   "metadata": {},
   "outputs": [
    {
     "ename": "IndentationError",
     "evalue": "unindent does not match any outer indentation level (<tokenize>, line 3)",
     "output_type": "error",
     "traceback": [
      "\u001b[1;36m  File \u001b[1;32m<tokenize>:3\u001b[1;36m\u001b[0m\n\u001b[1;33m    names = columns[0].text.strip()\u001b[0m\n\u001b[1;37m    ^\u001b[0m\n\u001b[1;31mIndentationError\u001b[0m\u001b[1;31m:\u001b[0m unindent does not match any outer indentation level\n"
     ]
    }
   ],
   "source": [
    "for row in table.find_all(\"tr\")[1:]:\n",
    "    columns = row.find_all(\"td\")\n",
    "  names = columns[0].text.strip()\n",
    "  terms = columns[1].text.strip()"
   ]
  },
  {
   "cell_type": "code",
   "execution_count": 18,
   "id": "e393ca79",
   "metadata": {},
   "outputs": [
    {
     "ename": "IndentationError",
     "evalue": "unexpected indent (2752269574.py, line 2)",
     "output_type": "error",
     "traceback": [
      "\u001b[1;36m  Cell \u001b[1;32mIn[18], line 2\u001b[1;36m\u001b[0m\n\u001b[1;33m    terms.append(term)\u001b[0m\n\u001b[1;37m    ^\u001b[0m\n\u001b[1;31mIndentationError\u001b[0m\u001b[1;31m:\u001b[0m unexpected indent\n"
     ]
    }
   ],
   "source": [
    "names.append(name)\n",
    "  terms.append(term)"
   ]
  },
  {
   "cell_type": "code",
   "execution_count": 19,
   "id": "5fb332c2",
   "metadata": {},
   "outputs": [],
   "source": [
    "data = {\"Name\": names, \"Term of Office\": terms}\n",
    "df = pd.DataFrame(data)"
   ]
  },
  {
   "cell_type": "code",
   "execution_count": 20,
   "id": "c5de4a94",
   "metadata": {},
   "outputs": [
    {
     "name": "stdout",
     "output_type": "stream",
     "text": [
      "Empty DataFrame\n",
      "Columns: [Name, Term of Office]\n",
      "Index: []\n"
     ]
    }
   ],
   "source": [
    "print(df)"
   ]
  },
  {
   "cell_type": "code",
   "execution_count": 21,
   "id": "9e671527",
   "metadata": {},
   "outputs": [],
   "source": [
    "import requests\n",
    "from bs4 import BeautifulSoup\n",
    "import pandas as pd"
   ]
  },
  {
   "cell_type": "code",
   "execution_count": 41,
   "id": "a72ded3b",
   "metadata": {},
   "outputs": [],
   "source": [
    "url_teams = \"https://www.icc-cricket.com/rankings/womens/team-rankings/odi\""
   ]
  },
  {
   "cell_type": "code",
   "execution_count": 43,
   "id": "3c07d0fa",
   "metadata": {},
   "outputs": [],
   "source": [
    "soup_teams = BeautifulSoup(response.content, \"html.parser\")"
   ]
  },
  {
   "cell_type": "code",
   "execution_count": 47,
   "id": "f06b6944",
   "metadata": {},
   "outputs": [
    {
     "ename": "AttributeError",
     "evalue": "'NoneType' object has no attribute 'find'",
     "output_type": "error",
     "traceback": [
      "\u001b[1;31m---------------------------------------------------------------------------\u001b[0m",
      "\u001b[1;31mAttributeError\u001b[0m                            Traceback (most recent call last)",
      "Cell \u001b[1;32mIn[47], line 3\u001b[0m\n\u001b[0;32m      1\u001b[0m teams_data \u001b[38;5;241m=\u001b[39m []\n\u001b[0;32m      2\u001b[0m table_teams \u001b[38;5;241m=\u001b[39m soup_teams\u001b[38;5;241m.\u001b[39mfind(\u001b[38;5;124m\"\u001b[39m\u001b[38;5;124mtable\u001b[39m\u001b[38;5;124m\"\u001b[39m, class_\u001b[38;5;241m=\u001b[39m\u001b[38;5;124m\"\u001b[39m\u001b[38;5;124mtable\u001b[39m\u001b[38;5;124m\"\u001b[39m)\n\u001b[1;32m----> 3\u001b[0m rows_teams \u001b[38;5;241m=\u001b[39m table_teams\u001b[38;5;241m.\u001b[39mfind(\u001b[38;5;124m\"\u001b[39m\u001b[38;5;124mtr\u001b[39m\u001b[38;5;124m\"\u001b[39m)\n",
      "\u001b[1;31mAttributeError\u001b[0m: 'NoneType' object has no attribute 'find'"
     ]
    }
   ],
   "source": [
    "teams_data = []\n",
    "table_teams = soup_teams.find(\"table\", class_=\"table\")\n",
    "rows_teams = table_teams.find(\"tr\")"
   ]
  },
  {
   "cell_type": "code",
   "execution_count": 49,
   "id": "7218cb94",
   "metadata": {},
   "outputs": [
    {
     "ename": "IndentationError",
     "evalue": "unexpected indent (4010226436.py, line 3)",
     "output_type": "error",
     "traceback": [
      "\u001b[1;36m  Cell \u001b[1;32mIn[49], line 3\u001b[1;36m\u001b[0m\n\u001b[1;33m    points = row.find_all(\"td\")[3].text.strip()\u001b[0m\n\u001b[1;37m    ^\u001b[0m\n\u001b[1;31mIndentationError\u001b[0m\u001b[1;31m:\u001b[0m unexpected indent\n"
     ]
    }
   ],
   "source": [
    "team_name = row.find(\"span\", class_=\"u-hide-phablet\").text.strip()\n",
    "matches = row.find_all(\"td\")[2].text.strip()\n",
    "  points = row.find_all(\"td\")[3].text.strip()\n",
    "  rating = row.find_all(\"td\")[4].text.strip()\n",
    "  teams_data.append([team_name, matches, points, rating])"
   ]
  },
  {
   "cell_type": "code",
   "execution_count": 50,
   "id": "e71724eb",
   "metadata": {},
   "outputs": [],
   "source": [
    "url_batting = \"https://www.icc-cricket.com/rankings/womens/player-rankings/odi/batting\"\n",
    "response_batting = requests.get(url_batting)\n",
    "soup_batting = BeautifulSoup(response_batting.content, \"html.parser\")    "
   ]
  },
  {
   "cell_type": "code",
   "execution_count": 51,
   "id": "7c7e323b",
   "metadata": {},
   "outputs": [],
   "source": [
    "batting_data = []\n",
    "table_batting = soup_batting.find(\"table\", class_=\"table\")\n",
    "rows_batting = table_batting.find_all(\"tr\")"
   ]
  },
  {
   "cell_type": "code",
   "execution_count": 52,
   "id": "b0c2911c",
   "metadata": {},
   "outputs": [
    {
     "ename": "AttributeError",
     "evalue": "'NoneType' object has no attribute 'text'",
     "output_type": "error",
     "traceback": [
      "\u001b[1;31m---------------------------------------------------------------------------\u001b[0m",
      "\u001b[1;31mAttributeError\u001b[0m                            Traceback (most recent call last)",
      "Cell \u001b[1;32mIn[52], line 2\u001b[0m\n\u001b[0;32m      1\u001b[0m \u001b[38;5;28;01mfor\u001b[39;00m row \u001b[38;5;129;01min\u001b[39;00m rows_batting[\u001b[38;5;241m1\u001b[39m:\u001b[38;5;241m11\u001b[39m]:\n\u001b[1;32m----> 2\u001b[0m   player_name \u001b[38;5;241m=\u001b[39m row\u001b[38;5;241m.\u001b[39mfind(\u001b[38;5;124m\"\u001b[39m\u001b[38;5;124mtd\u001b[39m\u001b[38;5;124m\"\u001b[39m, class_\u001b[38;5;241m=\u001b[39m\u001b[38;5;124m\"\u001b[39m\u001b[38;5;124mtable-body__cell rankings-table__name name\u001b[39m\u001b[38;5;124m\"\u001b[39m)\u001b[38;5;241m.\u001b[39mtext\u001b[38;5;241m.\u001b[39mstrip()\n\u001b[0;32m      3\u001b[0m   team \u001b[38;5;241m=\u001b[39m row\u001b[38;5;241m.\u001b[39mfind(\u001b[38;5;124m\"\u001b[39m\u001b[38;5;124mspan\u001b[39m\u001b[38;5;124m\"\u001b[39m, class_\u001b[38;5;241m=\u001b[39m\u001b[38;5;124m\"\u001b[39m\u001b[38;5;124mtable-body__logo-text\u001b[39m\u001b[38;5;124m\"\u001b[39m)\u001b[38;5;241m.\u001b[39mtext\u001b[38;5;241m.\u001b[39mstrip()\n\u001b[0;32m      4\u001b[0m   rating \u001b[38;5;241m=\u001b[39m row\u001b[38;5;241m.\u001b[39mfind(\u001b[38;5;124m\"\u001b[39m\u001b[38;5;124mtd\u001b[39m\u001b[38;5;124m\"\u001b[39m, class_\u001b[38;5;241m=\u001b[39m\u001b[38;5;124m\"\u001b[39m\u001b[38;5;124mtable-body__cell rating\u001b[39m\u001b[38;5;124m\"\u001b[39m)\u001b[38;5;241m.\u001b[39mtext\u001b[38;5;241m.\u001b[39mstrip()\n",
      "\u001b[1;31mAttributeError\u001b[0m: 'NoneType' object has no attribute 'text'"
     ]
    }
   ],
   "source": [
    "for row in rows_batting[1:11]:\n",
    "  player_name = row.find(\"td\", class_=\"table-body__cell rankings-table__name name\").text.strip()\n",
    "  team = row.find(\"span\", class_=\"table-body__logo-text\").text.strip()\n",
    "  rating = row.find(\"td\", class_=\"table-body__cell rating\").text.strip()\n",
    "  batting_data.append([player_name, team, rating])"
   ]
  },
  {
   "cell_type": "code",
   "execution_count": 53,
   "id": "0be3b89d",
   "metadata": {},
   "outputs": [],
   "source": [
    "url_allrounders = \"https://www.icc-cricket.com/rankings/womens/player-rankings/odi/all-rounder\"\n",
    "response_allrounders = requests.get(url_allrounders)\n",
    "soup_allrounders = BeautifulSoup(response_allrounders.content, \"html.parser\")\n"
   ]
  },
  {
   "cell_type": "code",
   "execution_count": 54,
   "id": "68b95511",
   "metadata": {},
   "outputs": [],
   "source": [
    "allrounders_data = []\n",
    "table_allrounders = soup_allrounders.find(\"table\", class_=\"table\")\n",
    "rows_allrounders = table_allrounders.find_all(\"tr\")\n"
   ]
  },
  {
   "cell_type": "code",
   "execution_count": 55,
   "id": "6c278da3",
   "metadata": {},
   "outputs": [
    {
     "ename": "AttributeError",
     "evalue": "'NoneType' object has no attribute 'text'",
     "output_type": "error",
     "traceback": [
      "\u001b[1;31m---------------------------------------------------------------------------\u001b[0m",
      "\u001b[1;31mAttributeError\u001b[0m                            Traceback (most recent call last)",
      "Cell \u001b[1;32mIn[55], line 2\u001b[0m\n\u001b[0;32m      1\u001b[0m \u001b[38;5;28;01mfor\u001b[39;00m row \u001b[38;5;129;01min\u001b[39;00m rows_allrounders[\u001b[38;5;241m1\u001b[39m:\u001b[38;5;241m11\u001b[39m]:\n\u001b[1;32m----> 2\u001b[0m   player_name \u001b[38;5;241m=\u001b[39m row\u001b[38;5;241m.\u001b[39mfind(\u001b[38;5;124m\"\u001b[39m\u001b[38;5;124mtd\u001b[39m\u001b[38;5;124m\"\u001b[39m, class_\u001b[38;5;241m=\u001b[39m\u001b[38;5;124m\"\u001b[39m\u001b[38;5;124mtable-body__cell rankings-table__name name\u001b[39m\u001b[38;5;124m\"\u001b[39m)\u001b[38;5;241m.\u001b[39mtext\u001b[38;5;241m.\u001b[39mstrip()\n\u001b[0;32m      3\u001b[0m   team \u001b[38;5;241m=\u001b[39m row\u001b[38;5;241m.\u001b[39mfind(\u001b[38;5;124m\"\u001b[39m\u001b[38;5;124mspan\u001b[39m\u001b[38;5;124m\"\u001b[39m, class_\u001b[38;5;241m=\u001b[39m\u001b[38;5;124m\"\u001b[39m\u001b[38;5;124mtable-body__logo-text\u001b[39m\u001b[38;5;124m\"\u001b[39m)\u001b[38;5;241m.\u001b[39mtext\u001b[38;5;241m.\u001b[39mstrip()\n\u001b[0;32m      4\u001b[0m   rating \u001b[38;5;241m=\u001b[39m row\u001b[38;5;241m.\u001b[39mfind(\u001b[38;5;124m\"\u001b[39m\u001b[38;5;124mtd\u001b[39m\u001b[38;5;124m\"\u001b[39m, class_\u001b[38;5;241m=\u001b[39m\u001b[38;5;124m\"\u001b[39m\u001b[38;5;124mtable-body__cell rating\u001b[39m\u001b[38;5;124m\"\u001b[39m)\u001b[38;5;241m.\u001b[39mtext\u001b[38;5;241m.\u001b[39mstrip()\n",
      "\u001b[1;31mAttributeError\u001b[0m: 'NoneType' object has no attribute 'text'"
     ]
    }
   ],
   "source": [
    "for row in rows_allrounders[1:11]:\n",
    "  player_name = row.find(\"td\", class_=\"table-body__cell rankings-table__name name\").text.strip()\n",
    "  team = row.find(\"span\", class_=\"table-body__logo-text\").text.strip()\n",
    "  rating = row.find(\"td\", class_=\"table-body__cell rating\").text.strip()\n",
    "  allrounders_data.append([player_name, team, rating])"
   ]
  },
  {
   "cell_type": "code",
   "execution_count": 56,
   "id": "5d7c5ad4",
   "metadata": {},
   "outputs": [],
   "source": [
    "df_teams = pd.DataFrame(teams_data, columns=[\"Team\", \"Matches\", \"Points\", \"Rating\"])\n",
    "df_batting = pd.DataFrame(batting_data, columns=[\"Player\", \"Team\", \"Rating\"])\n",
    "df_allrounders = pd.DataFrame(allrounders_data, columns=[\"Player\", \"Team\", \"Rating\"])"
   ]
  },
  {
   "cell_type": "code",
   "execution_count": 57,
   "id": "1392c401",
   "metadata": {},
   "outputs": [
    {
     "name": "stdout",
     "output_type": "stream",
     "text": [
      "Top 10 ODI teams in women's cricket:\n",
      "Empty DataFrame\n",
      "Columns: [Team, Matches, Points, Rating]\n",
      "Index: []\n",
      "\n",
      "Top 10 women's ODI Batting players:\n",
      "Empty DataFrame\n",
      "Columns: [Player, Team, Rating]\n",
      "Index: []\n",
      "\n",
      "Top 10 women's ODI all-rounders:\n",
      "Empty DataFrame\n",
      "Columns: [Player, Team, Rating]\n",
      "Index: []\n"
     ]
    }
   ],
   "source": [
    "print(\"Top 10 ODI teams in women's cricket:\")\n",
    "print(df_teams)\n",
    "print(\"\\nTop 10 women's ODI Batting players:\")\n",
    "print(df_batting)\n",
    "print(\"\\nTop 10 women's ODI all-rounders:\")\n",
    "print(df_allrounders)"
   ]
  },
  {
   "cell_type": "code",
   "execution_count": 58,
   "id": "29b96d1c",
   "metadata": {},
   "outputs": [],
   "source": [
    "import requests\n",
    "from bs4 import BeautifulSoup\n",
    "import pandas as pd"
   ]
  },
  {
   "cell_type": "code",
   "execution_count": 23,
   "id": "a6ba1fea",
   "metadata": {},
   "outputs": [],
   "source": [
    "url=\"http://www.cnbc.com/world/?region=world\""
   ]
  },
  {
   "cell_type": "code",
   "execution_count": 24,
   "id": "ac4227b6",
   "metadata": {},
   "outputs": [],
   "source": [
    "response = requests.get(url)"
   ]
  },
  {
   "cell_type": "code",
   "execution_count": 25,
   "id": "5d6640d5",
   "metadata": {},
   "outputs": [],
   "source": [
    "soup = BeautifulSoup(response.content, \"html.parser\")"
   ]
  },
  {
   "cell_type": "code",
   "execution_count": 26,
   "id": "75da9cf0",
   "metadata": {},
   "outputs": [],
   "source": [
    "articles = soup.find_all(\"div\", class_=\"Card-titleContainer\")"
   ]
  },
  {
   "cell_type": "code",
   "execution_count": 27,
   "id": "decc27db",
   "metadata": {},
   "outputs": [],
   "source": [
    "headlines = []\n",
    "times = []\n",
    "links = []"
   ]
  },
  {
   "cell_type": "code",
   "execution_count": 34,
   "id": "24e20a0b",
   "metadata": {},
   "outputs": [
    {
     "ename": "IndentationError",
     "evalue": "unindent does not match any outer indentation level (<tokenize>, line 3)",
     "output_type": "error",
     "traceback": [
      "\u001b[1;36m  File \u001b[1;32m<tokenize>:3\u001b[1;36m\u001b[0m\n\u001b[1;33m    headlines.append(headline)\u001b[0m\n\u001b[1;37m    ^\u001b[0m\n\u001b[1;31mIndentationError\u001b[0m\u001b[1;31m:\u001b[0m unindent does not match any outer indentation level\n"
     ]
    }
   ],
   "source": [
    "for article in articles:\n",
    "    headlines = article.find(\"a\").text.strip()\n",
    "  headlines.append(headline)\n",
    "  "
   ]
  },
  {
   "cell_type": "code",
   "execution_count": 35,
   "id": "d8dc5f7b",
   "metadata": {},
   "outputs": [
    {
     "ename": "IndentationError",
     "evalue": "unexpected indent (1608832905.py, line 2)",
     "output_type": "error",
     "traceback": [
      "\u001b[1;36m  Cell \u001b[1;32mIn[35], line 2\u001b[1;36m\u001b[0m\n\u001b[1;33m    times.append(time)\u001b[0m\n\u001b[1;37m    ^\u001b[0m\n\u001b[1;31mIndentationError\u001b[0m\u001b[1;31m:\u001b[0m unexpected indent\n"
     ]
    }
   ],
   "source": [
    "time = article.find(\"time\").text.strip()\n",
    "  times.append(time)"
   ]
  },
  {
   "cell_type": "code",
   "execution_count": 36,
   "id": "b23076f2",
   "metadata": {},
   "outputs": [
    {
     "ename": "IndentationError",
     "evalue": "unexpected indent (2361630176.py, line 2)",
     "output_type": "error",
     "traceback": [
      "\u001b[1;36m  Cell \u001b[1;32mIn[36], line 2\u001b[1;36m\u001b[0m\n\u001b[1;33m    links.append(link)\u001b[0m\n\u001b[1;37m    ^\u001b[0m\n\u001b[1;31mIndentationError\u001b[0m\u001b[1;31m:\u001b[0m unexpected indent\n"
     ]
    }
   ],
   "source": [
    "link = article.find(\"a\")[\"href\"]\n",
    "  links.append(link)"
   ]
  },
  {
   "cell_type": "code",
   "execution_count": 37,
   "id": "4ce8dcc5",
   "metadata": {},
   "outputs": [],
   "source": [
    "data = {\n",
    "  \"Headline\": headlines,\n",
    "  \"Time\": times,\n",
    "  \"News Link\": links\n",
    "}"
   ]
  },
  {
   "cell_type": "code",
   "execution_count": 38,
   "id": "1ea7dac8",
   "metadata": {},
   "outputs": [],
   "source": [
    "df = pd.DataFrame(data)"
   ]
  },
  {
   "cell_type": "code",
   "execution_count": 39,
   "id": "699a00ce",
   "metadata": {},
   "outputs": [
    {
     "name": "stdout",
     "output_type": "stream",
     "text": [
      "Empty DataFrame\n",
      "Columns: [Headline, Time, News Link]\n",
      "Index: []\n"
     ]
    }
   ],
   "source": [
    "print(df)"
   ]
  },
  {
   "cell_type": "code",
   "execution_count": 81,
   "id": "f32e0a6b",
   "metadata": {},
   "outputs": [],
   "source": [
    "import requests\n",
    "from bs4 import BeautifulSoup\n",
    "import pandas as pd"
   ]
  },
  {
   "cell_type": "code",
   "execution_count": 82,
   "id": "78fe18ea",
   "metadata": {},
   "outputs": [],
   "source": [
    "url = \"https://www.journals.elsevier.com/artificial-intelligence/most-downloaded-articles\"\n",
    "response = requests.get(url)"
   ]
  },
  {
   "cell_type": "code",
   "execution_count": 83,
   "id": "9085da5a",
   "metadata": {},
   "outputs": [],
   "source": [
    "soup = BeautifulSoup(response.content, \"html.parser\")"
   ]
  },
  {
   "cell_type": "code",
   "execution_count": 84,
   "id": "844e5415",
   "metadata": {},
   "outputs": [],
   "source": [
    "articles_container = soup.find(\"div\", class_=\"pod-listing\")\n"
   ]
  },
  {
   "cell_type": "code",
   "execution_count": 85,
   "id": "5751a09a",
   "metadata": {},
   "outputs": [],
   "source": [
    "titles = []\n",
    "authors = []\n",
    "dates = []\n",
    "urls = []"
   ]
  },
  {
   "cell_type": "code",
   "execution_count": 88,
   "id": "3aaf5927",
   "metadata": {},
   "outputs": [
    {
     "ename": "IndentationError",
     "evalue": "unindent does not match any outer indentation level (<tokenize>, line 3)",
     "output_type": "error",
     "traceback": [
      "\u001b[1;36m  File \u001b[1;32m<tokenize>:3\u001b[1;36m\u001b[0m\n\u001b[1;33m    titles.append(title)\u001b[0m\n\u001b[1;37m    ^\u001b[0m\n\u001b[1;31mIndentationError\u001b[0m\u001b[1;31m:\u001b[0m unindent does not match any outer indentation level\n"
     ]
    }
   ],
   "source": [
    "for article in articles_container.find_all(\"li\"):\n",
    "    title = article.find(\"h3\").text.strip()\n",
    "  titles.append(title)"
   ]
  },
  {
   "cell_type": "code",
   "execution_count": 89,
   "id": "0cc2161d",
   "metadata": {},
   "outputs": [
    {
     "ename": "IndentationError",
     "evalue": "unexpected indent (1393929199.py, line 2)",
     "output_type": "error",
     "traceback": [
      "\u001b[1;36m  Cell \u001b[1;32mIn[89], line 2\u001b[1;36m\u001b[0m\n\u001b[1;33m    authors.append(author)\u001b[0m\n\u001b[1;37m    ^\u001b[0m\n\u001b[1;31mIndentationError\u001b[0m\u001b[1;31m:\u001b[0m unexpected indent\n"
     ]
    }
   ],
   "source": [
    "author = article.find(\"span\", class_=\"text-xs\").text.strip()\n",
    "  authors.append(author)"
   ]
  },
  {
   "cell_type": "code",
   "execution_count": 90,
   "id": "ef63b0a1",
   "metadata": {},
   "outputs": [
    {
     "ename": "IndentationError",
     "evalue": "unexpected indent (414732437.py, line 2)",
     "output_type": "error",
     "traceback": [
      "\u001b[1;36m  Cell \u001b[1;32mIn[90], line 2\u001b[1;36m\u001b[0m\n\u001b[1;33m    dates.append(date)\u001b[0m\n\u001b[1;37m    ^\u001b[0m\n\u001b[1;31mIndentationError\u001b[0m\u001b[1;31m:\u001b[0m unexpected indent\n"
     ]
    }
   ],
   "source": [
    "date = article.find(\"span\", class_=\"text-xs\").find_next_sibling(\"span\").text.strip()\n",
    "  dates.append(date)"
   ]
  },
  {
   "cell_type": "code",
   "execution_count": 1,
   "id": "f823931e",
   "metadata": {},
   "outputs": [
    {
     "ename": "IndentationError",
     "evalue": "unexpected indent (1619645685.py, line 2)",
     "output_type": "error",
     "traceback": [
      "\u001b[1;36m  Cell \u001b[1;32mIn[1], line 2\u001b[1;36m\u001b[0m\n\u001b[1;33m    url.append(url)\u001b[0m\n\u001b[1;37m    ^\u001b[0m\n\u001b[1;31mIndentationError\u001b[0m\u001b[1;31m:\u001b[0m unexpected indent\n"
     ]
    }
   ],
   "source": [
    "url = article.find(\"a\")[\"href\"]\n",
    "  url.append(url)"
   ]
  },
  {
   "cell_type": "code",
   "execution_count": 92,
   "id": "751b261e",
   "metadata": {},
   "outputs": [],
   "source": [
    "data = {\n",
    "  \"Paper Title\": titles,\n",
    "  \"Authors\": authors,\n",
    "  \"Published Date\": dates,\n",
    "  \"Paper URL\": urls\n",
    "}\n",
    "df = pd.DataFrame(data)"
   ]
  },
  {
   "cell_type": "code",
   "execution_count": 93,
   "id": "cd7b891f",
   "metadata": {},
   "outputs": [
    {
     "name": "stdout",
     "output_type": "stream",
     "text": [
      "Empty DataFrame\n",
      "Columns: [Paper Title, Authors, Published Date, Paper URL]\n",
      "Index: []\n"
     ]
    }
   ],
   "source": [
    "print(df)"
   ]
  },
  {
   "cell_type": "code",
   "execution_count": 94,
   "id": "d80cc073",
   "metadata": {},
   "outputs": [],
   "source": [
    "import requests\n",
    "from bs4 import BeautifulSoup\n",
    "import pandas as pd"
   ]
  },
  {
   "cell_type": "code",
   "execution_count": 95,
   "id": "860cb011",
   "metadata": {},
   "outputs": [],
   "source": [
    "url = \"https://www.dineout.co.in\"\n",
    "response = requests.get(url)"
   ]
  },
  {
   "cell_type": "code",
   "execution_count": 96,
   "id": "3df55596",
   "metadata": {},
   "outputs": [],
   "source": [
    "soup = BeautifulSoup(response.content, 'html.parser')"
   ]
  },
  {
   "cell_type": "code",
   "execution_count": 97,
   "id": "bb70b6db",
   "metadata": {},
   "outputs": [],
   "source": [
    "restaurant_names = soup.find_all('h2', class_='restnt-name ellipsis')\n",
    "cuisines = soup.find_all('span', class_='double-line-ellipsis')\n",
    "locations = soup.find_all('span', class_='double-line-ellipsis')\n",
    "ratings = soup.find_all('span', class_='rating-value')\n",
    "image_urls = soup.find_all('img', class_='img-responsive')"
   ]
  },
  {
   "cell_type": "code",
   "execution_count": 98,
   "id": "372bcc7e",
   "metadata": {},
   "outputs": [],
   "source": [
    "restaurant_list = []\n",
    "cuisine_list = []\n",
    "location_list = []\n",
    "rating_list = []\n",
    "image_url_list = []"
   ]
  },
  {
   "cell_type": "code",
   "execution_count": 99,
   "id": "8c344d17",
   "metadata": {},
   "outputs": [],
   "source": [
    "for name in restaurant_names:\n",
    "  restaurant_list.append(name.text.strip())\n",
    "for cuisine in cuisines:\n",
    "  cuisine_list.append(cuisine.text.strip())\n",
    "\n",
    "for location in locations:\n",
    "  location_list.append(location.text.strip())\n",
    "\n",
    "for rating in ratings:\n",
    "  rating_list.append(rating.text.strip())\n",
    "\n",
    "for image in image_urls:\n",
    "  image_url_list.append(image['src'])"
   ]
  },
  {
   "cell_type": "code",
   "execution_count": 100,
   "id": "1012ee88",
   "metadata": {},
   "outputs": [],
   "source": [
    "data = {\n",
    "  'Restaurant Name': restaurant_list,\n",
    "  'Cuisine': cuisine_list,\n",
    "  'Location': location_list,\n",
    "  'Ratings': rating_list,\n",
    "  'Image URL': image_url_list}\n"
   ]
  },
  {
   "cell_type": "code",
   "execution_count": 101,
   "id": "dbc5679d",
   "metadata": {},
   "outputs": [],
   "source": [
    "df = pd.DataFrame(data)"
   ]
  },
  {
   "cell_type": "code",
   "execution_count": 102,
   "id": "97f49451",
   "metadata": {},
   "outputs": [
    {
     "name": "stdout",
     "output_type": "stream",
     "text": [
      "Empty DataFrame\n",
      "Columns: [Restaurant Name, Cuisine, Location, Ratings, Image URL]\n",
      "Index: []\n"
     ]
    }
   ],
   "source": [
    "print(df)"
   ]
  },
  {
   "cell_type": "code",
   "execution_count": 40,
   "id": "175831f3",
   "metadata": {},
   "outputs": [],
   "source": [
    "import requests\n",
    "from bs4 import BeautifulSoup\n",
    "import pandas as pd"
   ]
  },
  {
   "cell_type": "code",
   "execution_count": 41,
   "id": "144b25b0",
   "metadata": {},
   "outputs": [],
   "source": [
    "teams_url = 'https://www.icc-cricket.com/rankings/mens/team-rankings/odi'"
   ]
  },
  {
   "cell_type": "code",
   "execution_count": 42,
   "id": "ddb9c3af",
   "metadata": {},
   "outputs": [],
   "source": [
    "teams_response = requests.get(teams_url)\n",
    "teams_soup = BeautifulSoup(teams_response.content, 'html.parser')"
   ]
  },
  {
   "cell_type": "code",
   "execution_count": 43,
   "id": "49db333b",
   "metadata": {},
   "outputs": [],
   "source": [
    "team_rows = teams_soup.select('table.table tbody tr')\n",
    "team_data = []"
   ]
  },
  {
   "cell_type": "code",
   "execution_count": 44,
   "id": "8954d423",
   "metadata": {},
   "outputs": [
    {
     "ename": "AttributeError",
     "evalue": "'NoneType' object has no attribute 'text'",
     "output_type": "error",
     "traceback": [
      "\u001b[1;31m---------------------------------------------------------------------------\u001b[0m",
      "\u001b[1;31mAttributeError\u001b[0m                            Traceback (most recent call last)",
      "Cell \u001b[1;32mIn[44], line 2\u001b[0m\n\u001b[0;32m      1\u001b[0m \u001b[38;5;28;01mfor\u001b[39;00m row \u001b[38;5;129;01min\u001b[39;00m team_rows:\n\u001b[1;32m----> 2\u001b[0m   rank \u001b[38;5;241m=\u001b[39m row\u001b[38;5;241m.\u001b[39mselect_one(\u001b[38;5;124m'\u001b[39m\u001b[38;5;124m.rank-cell\u001b[39m\u001b[38;5;124m'\u001b[39m)\u001b[38;5;241m.\u001b[39mtext\u001b[38;5;241m.\u001b[39mstrip()\n\u001b[0;32m      3\u001b[0m   team \u001b[38;5;241m=\u001b[39m row\u001b[38;5;241m.\u001b[39mselect_one(\u001b[38;5;124m'\u001b[39m\u001b[38;5;124m.u-hide-phablet\u001b[39m\u001b[38;5;124m'\u001b[39m)\u001b[38;5;241m.\u001b[39mtext\u001b[38;5;241m.\u001b[39mstrip()\n\u001b[0;32m      4\u001b[0m   matches \u001b[38;5;241m=\u001b[39m row\u001b[38;5;241m.\u001b[39mselect_one(\u001b[38;5;124m'\u001b[39m\u001b[38;5;124m.matches-cell\u001b[39m\u001b[38;5;124m'\u001b[39m)\u001b[38;5;241m.\u001b[39mtext\u001b[38;5;241m.\u001b[39mstrip()\n",
      "\u001b[1;31mAttributeError\u001b[0m: 'NoneType' object has no attribute 'text'"
     ]
    }
   ],
   "source": [
    "for row in team_rows:\n",
    "  rank = row.select_one('.rank-cell').text.strip()\n",
    "  team = row.select_one('.u-hide-phablet').text.strip()\n",
    "  matches = row.select_one('.matches-cell').text.strip()\n",
    "  points = row.select_one('.points-cell').text.strip()\n",
    "  rating = row.select_one('.rating').text.strip()\n",
    "  team_data.append([rank, team, matches, points, rating])"
   ]
  },
  {
   "cell_type": "code",
   "execution_count": null,
   "id": "2513e437",
   "metadata": {},
   "outputs": [],
   "source": [
    "teams_df = pd.DataFrame(team_data, columns=['Rank', 'Team', 'Matches', 'Points', 'Rating'])"
   ]
  },
  {
   "cell_type": "code",
   "execution_count": 45,
   "id": "240e74b4",
   "metadata": {},
   "outputs": [],
   "source": [
    "batsmen_url = 'https://www.icc-cricket.com/rankings/mens/player-rankings/odi/batting'\n",
    "batsmen_response = requests.get(batsmen_url)\n",
    "batsmen_soup = BeautifulSoup(batsmen_response.content, 'html.parser')"
   ]
  },
  {
   "cell_type": "code",
   "execution_count": 46,
   "id": "2c271c70",
   "metadata": {},
   "outputs": [],
   "source": [
    "batsman_rows = batsmen_soup.select('table.table tbody tr')\n",
    "batsman_data = []\n",
    "for row in batsman_rows:\n",
    "  rank = row.select_one('.rank-cell').text.strip()\n",
    "  player = row.select_one('.table-body__cell.name a').text.strip()\n",
    "  team = row.select_one('.table-body__cell.u-hide-phablet a').text.strip()\n",
    "  rating = row.select_one('.rating').text.strip()\n",
    "  batsman_data.append([rank, player, team, rating])"
   ]
  },
  {
   "cell_type": "code",
   "execution_count": 48,
   "id": "92a2fcb8",
   "metadata": {},
   "outputs": [],
   "source": [
    "batsmen_df = pd.DataFrame(batsman_data, columns=['Rank', 'Player', 'Team', 'Rating'])\n"
   ]
  },
  {
   "cell_type": "code",
   "execution_count": 49,
   "id": "5e55ca35",
   "metadata": {},
   "outputs": [],
   "source": [
    "bowlers_url = 'https://www.icc-cricket.com/rankings/mens/player-rankings/odi/bowling'\n",
    "bowlers_response = requests.get(bowlers_url)\n",
    "bowlers_soup = BeautifulSoup(bowlers_response.content, 'html.parser')"
   ]
  },
  {
   "cell_type": "code",
   "execution_count": 50,
   "id": "cacd3a92",
   "metadata": {},
   "outputs": [],
   "source": [
    "bowler_rows = bowlers_soup.select('table.table tbody tr')\n",
    "bowler_data = []\n",
    "for row in bowler_rows:\n",
    "  rank = row.select_one('.rank-cell').text.strip()\n",
    "  player = row.select_one('.table-body__cell.name a').text.strip()\n",
    "  team = row.select_one('.table-body__cell.u-hide-phablet a').text.strip()\n",
    "  rating = row.select_one('.rating').text.strip()\n",
    "  bowler_data.append([rank, player, team, rating])\n",
    "\n",
    "bowlers_df = pd.DataFrame(bowler_data, columns=['Rank', 'Player', 'Team', 'Rating'])"
   ]
  },
  {
   "cell_type": "code",
   "execution_count": 54,
   "id": "96a60e21",
   "metadata": {},
   "outputs": [
    {
     "name": "stdout",
     "output_type": "stream",
     "text": [
      "Top 10 ODI Teams:\n",
      "teams_df.head(10)\n",
      "\n",
      "Top 10 ODI Batsmen:\n",
      "batsmen_df.head(10)\n",
      "\n",
      "Top 10 ODI Bowlers:\n",
      "bowlers_df.head(10)\n"
     ]
    }
   ],
   "source": [
    "print(\"Top 10 ODI Teams:\")\n",
    "print('teams_df.head(10)')\n",
    "print(\"\\nTop 10 ODI Batsmen:\")\n",
    "print('batsmen_df.head(10)')\n",
    "print(\"\\nTop 10 ODI Bowlers:\")\n",
    "print('bowlers_df.head(10)')"
   ]
  },
  {
   "cell_type": "code",
   "execution_count": null,
   "id": "11aa2b1e",
   "metadata": {},
   "outputs": [],
   "source": []
  }
 ],
 "metadata": {
  "kernelspec": {
   "display_name": "Python 3 (ipykernel)",
   "language": "python",
   "name": "python3"
  },
  "language_info": {
   "codemirror_mode": {
    "name": "ipython",
    "version": 3
   },
   "file_extension": ".py",
   "mimetype": "text/x-python",
   "name": "python",
   "nbconvert_exporter": "python",
   "pygments_lexer": "ipython3",
   "version": "3.11.5"
  }
 },
 "nbformat": 4,
 "nbformat_minor": 5
}
